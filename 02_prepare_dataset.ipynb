{
 "cells": [
  {
   "cell_type": "code",
   "execution_count": 1,
   "id": "de6fc372",
   "metadata": {},
   "outputs": [],
   "source": [
    "import collections\n",
    "import datetime\n",
    "import dateutil\n",
    "import html\n",
    "import pathlib\n",
    "from dotenv import dotenv_values\n",
    "import pandas as pd\n",
    "\n",
    "from grouptag import whichtag, quicktag, VectorTagger, PatternTagger, fix_ruleframe\n",
    "\n",
    "\n",
    "from territories import fix_raw_countries, territories_qtspec\n",
    "from acronyms import acromap"
   ]
  },
  {
   "cell_type": "code",
   "execution_count": 2,
   "id": "c945b0de",
   "metadata": {},
   "outputs": [],
   "source": [
    "pd.set_option('max_colwidth', None)"
   ]
  },
  {
   "cell_type": "code",
   "execution_count": 3,
   "id": "df62a538",
   "metadata": {},
   "outputs": [],
   "source": [
    "config = dotenv_values('config.env')"
   ]
  },
  {
   "cell_type": "markdown",
   "id": "9c6d6276",
   "metadata": {},
   "source": [
    "# Read cached"
   ]
  },
  {
   "cell_type": "code",
   "execution_count": 4,
   "id": "7299a72e",
   "metadata": {},
   "outputs": [
    {
     "name": "stdout",
     "output_type": "stream",
     "text": [
      "CPU times: total: 21.4 s\n",
      "Wall time: 1min 16s\n"
     ]
    },
    {
     "data": {
      "text/plain": [
       "(835499, 63)"
      ]
     },
     "execution_count": 4,
     "metadata": {},
     "output_type": "execute_result"
    }
   ],
   "source": [
    "%%time\n",
    "\n",
    "raw_df = pd.read_feather(config.get('PATH_DF_FULL'))\n",
    "raw_df.shape"
   ]
  },
  {
   "cell_type": "markdown",
   "id": "e3daae0c",
   "metadata": {},
   "source": [
    "# Cleaning / Conversion"
   ]
  },
  {
   "cell_type": "markdown",
   "id": "3d8105d0",
   "metadata": {},
   "source": [
    "## title"
   ]
  },
  {
   "cell_type": "markdown",
   "id": "70699398",
   "metadata": {},
   "source": [
    "Mixture of `public_title` and `scientific_title`"
   ]
  },
  {
   "cell_type": "code",
   "execution_count": 5,
   "id": "d104f008",
   "metadata": {},
   "outputs": [],
   "source": [
    "na_values = {'a - a', 'na - na', 'asdf', 'none', 'n.a.',\n",
    "             'not applicable', 'not available', 'see below'}\n",
    "\n",
    "title_spec = [  \n",
    "    [pd.NA, lambda x: len(x) <= 2],\n",
    "    {'series.lower': True},\n",
    "    [pd.NA, na_values]\n",
    "]\n",
    "\n",
    "def clean_title(series):\n",
    "    unescaped = series.apply(html.unescape)\n",
    "    # No non-word symbols in the beginning of the line\n",
    "    cleaned = unescaped.str.replace(r'^\\W+', '', regex=True)\n",
    "    # One non-word symbol (puntuation mark?) allowed after the word in the end\n",
    "    cleaned = cleaned.str.replace(r'(\\w\\W)\\W+$', r'\\1', regex=True)\n",
    "    result = cleaned.str.replace(r'N/A[\\s\\-]*', '', case=False, regex=True)\n",
    "    result = whichtag(result, title_spec, prefill=result)\n",
    "    return result"
   ]
  },
  {
   "cell_type": "code",
   "execution_count": 6,
   "id": "2eb5f365",
   "metadata": {},
   "outputs": [
    {
     "name": "stdout",
     "output_type": "stream",
     "text": [
      "CPU times: total: 21.6 s\n",
      "Wall time: 28.2 s\n"
     ]
    }
   ],
   "source": [
    "%%time\n",
    "\n",
    "scientific = clean_title(raw_df['scientific_title'])\n",
    "public = clean_title(raw_df['public_title'])\n",
    "title = public.fillna(scientific)"
   ]
  },
  {
   "cell_type": "code",
   "execution_count": 7,
   "id": "11c43ffa",
   "metadata": {},
   "outputs": [
    {
     "data": {
      "text/plain": [
       "False    835295\n",
       "True        204\n",
       "Name: public_title, dtype: int64"
      ]
     },
     "execution_count": 7,
     "metadata": {},
     "output_type": "execute_result"
    }
   ],
   "source": [
    "title.isna().value_counts()"
   ]
  },
  {
   "cell_type": "markdown",
   "id": "e46caabc",
   "metadata": {},
   "source": [
    "## url"
   ]
  },
  {
   "cell_type": "code",
   "execution_count": 8,
   "id": "3f24bab4",
   "metadata": {},
   "outputs": [
    {
     "data": {
      "text/plain": [
       "False    835499\n",
       "Name: url, dtype: int64"
      ]
     },
     "execution_count": 8,
     "metadata": {},
     "output_type": "execute_result"
    }
   ],
   "source": [
    "raw_df['url'].isna().value_counts()  # leave as is"
   ]
  },
  {
   "cell_type": "markdown",
   "id": "c551e6f7",
   "metadata": {},
   "source": [
    "### study_type"
   ]
  },
  {
   "cell_type": "code",
   "execution_count": 9,
   "id": "873eda9b",
   "metadata": {},
   "outputs": [
    {
     "name": "stdout",
     "output_type": "stream",
     "text": [
      "CPU times: total: 3.14 s\n",
      "Wall time: 4.06 s\n"
     ]
    },
    {
     "data": {
      "text/plain": [
       "Interventional                   666281\n",
       "Observational                    156748\n",
       "Diagnostic Test                    3053\n",
       "Cause/Relative Factors             2307\n",
       "<NA>                               1916\n",
       "Basic Science/Epidemiological      1791\n",
       "Expanded Access                     870\n",
       "Post-Marketing                      657\n",
       "BA/BE                               594\n",
       "Interventional/Observational        487\n",
       "Prognistic                          247\n",
       "Health Services Research            213\n",
       "Prevention                          183\n",
       "Screening                           152\n",
       "Name: study_type, dtype: Int64"
      ]
     },
     "execution_count": 9,
     "metadata": {},
     "output_type": "execute_result"
    }
   ],
   "source": [
    "%%time\n",
    "\n",
    "na_values = {'', 'N/A', 'Unknown', 'Not Specified'}\n",
    "\n",
    "study_type_spec = [  \n",
    "    [pd.NA, na_values],\n",
    "    {'series.lower': True},\n",
    "    ['Interventional/Observational', 'interven', 'observ'],\n",
    "    ['Diagnostic Test', 'diagnostic'],\n",
    "    ['Cause/Relative Factors', ['cause', ['factor', 'relative']]],\n",
    "    ['Interventional', ['interven', 'treatment']],\n",
    "    ['Observational', 'observ'],\n",
    "    ['Post-Marketing', 'pms'],\n",
    "    ['Basic Science/Epidemiological', ['basic', 'epidemi']],\n",
    "    ['Prognistic', 'progn'],\n",
    "    ['Health Services Research', 'health', 'services', 'reaserch'],\n",
    "    [pd.NA, 'other'],\n",
    "]\n",
    "\n",
    "raw_study_type = raw_df['study_type']\n",
    "study_type = whichtag(raw_study_type, study_type_spec, prefill=raw_study_type)\n",
    "study_type.value_counts(dropna=False)"
   ]
  },
  {
   "cell_type": "markdown",
   "id": "9248d824",
   "metadata": {},
   "source": [
    "## phase"
   ]
  },
  {
   "cell_type": "code",
   "execution_count": 10,
   "id": "02a073d3",
   "metadata": {},
   "outputs": [
    {
     "name": "stdout",
     "output_type": "stream",
     "text": [
      "CPU times: total: 406 ms\n",
      "Wall time: 622 ms\n"
     ]
    }
   ],
   "source": [
    "%%time\n",
    "\n",
    "na_values = {'', 'n/a', 'nill', 'null', 'na', 'other', 'not entered',\n",
    "             'not specified', 'not selected', 'not applicable', 'not available'}\n",
    "clean_spec = [{'series.lower': True}, [pd.NA, na_values]]\n",
    "raw_phase = whichtag(raw_df['phase'], clean_spec, prefill=raw_df['phase'])"
   ]
  },
  {
   "cell_type": "code",
   "execution_count": 11,
   "id": "0cd6098d",
   "metadata": {},
   "outputs": [
    {
     "name": "stdout",
     "output_type": "stream",
     "text": [
      "CPU times: total: 7.23 s\n",
      "Wall time: 9.16 s\n"
     ]
    }
   ],
   "source": [
    "%%time\n",
    "\n",
    "phase4_spec = [\n",
    "    {'patterns.lower': True, 'series.lower': True,\n",
    "     1: {'str.contains': {'case': True, 'regex': True}}},\n",
    "    [True, {'Human pharmacology': 'str.startswith'}, '(Phase IV): yes'],\n",
    "    [False, {'Human pharmacology': 'str.startswith'}],\n",
    "    [True, {r'\\b4\\b': 1}],\n",
    "    [True, 'Phase4'],\n",
    "    [True, 'post', 'market'],\n",
    "    {'patterns.lower': False, 'series.lower': False},\n",
    "    [True, {r'\\bIV\\b': 1}],\n",
    "]\n",
    "\n",
    "phase3_spec = [\n",
    "    {'patterns.lower': True, 'series.lower': True,\n",
    "     1: {'str.contains': {'case': True, 'regex': True}}},\n",
    "    [True, {'Human pharmacology': 'str.startswith'}, '(Phase III): yes'],\n",
    "    [False, {'Human pharmacology': 'str.startswith'}],\n",
    "    [True, {r'\\b3[ab]?\\b': 1}],\n",
    "    [True, 'Phase3'],\n",
    "    {'patterns.lower': False, 'series.lower': False},\n",
    "    [True, {r'\\bIII[abAB]?\\b': 1}],\n",
    "]\n",
    "\n",
    "phase2_spec = [\n",
    "    {'patterns.lower': True, 'series.lower': True,\n",
    "     1: {'str.contains': {'case': True, 'regex': True}}},\n",
    "    [True, {'Human pharmacology': 'str.startswith'}, '(Phase II): yes'],\n",
    "    [False, {'Human pharmacology': 'str.startswith'}],\n",
    "    [True, {r'\\b2[ab]?\\b': 1}],\n",
    "    [True, 'Phase2'],\n",
    "    {'patterns.lower': False, 'series.lower': False},\n",
    "    [True, {r'\\bII[abAB]?\\b': 1}],\n",
    "]\n",
    "\n",
    "phase1_spec = [\n",
    "    {'patterns.lower': True, 'series.lower': True,\n",
    "     1: {'str.contains': {'case': True, 'regex': True}}},\n",
    "    [True, {'Human pharmacology': 'str.startswith'}, '(Phase I): yes'],\n",
    "    [False, {'Human pharmacology': 'str.startswith'}],\n",
    "    [True, {r'\\b1[ab]?\\b': 1}],\n",
    "    [True, 'Phase1'],\n",
    "    {'patterns.lower': False, 'series.lower': False},\n",
    "    [True, {r'\\bI[abAB]?\\b': 1}],\n",
    "]\n",
    "\n",
    "phase0_spec = [[True, ['0', 'zero']]]\n",
    "\n",
    "phase4 = whichtag(raw_phase, phase4_spec).fillna(False)\n",
    "phase3 = whichtag(raw_phase, phase3_spec).fillna(False)\n",
    "phase2 = whichtag(raw_phase, phase2_spec).fillna(False)\n",
    "phase1 = whichtag(raw_phase, phase1_spec).fillna(False)\n",
    "phase0 = whichtag(raw_phase, phase0_spec).fillna(False)"
   ]
  },
  {
   "cell_type": "code",
   "execution_count": 12,
   "id": "682300e5",
   "metadata": {},
   "outputs": [],
   "source": [
    "def append_value(x, y):    \n",
    "    cell = list() if x is pd.NA else x\n",
    "    cell.append(int(y))\n",
    "    return cell"
   ]
  },
  {
   "cell_type": "code",
   "execution_count": 13,
   "id": "f18aca30",
   "metadata": {},
   "outputs": [
    {
     "name": "stdout",
     "output_type": "stream",
     "text": [
      "CPU times: total: 1.08 s\n",
      "Wall time: 1.6 s\n"
     ]
    },
    {
     "data": {
      "text/plain": [
       "<NA>         485287\n",
       "[2]           93688\n",
       "[3]           92865\n",
       "[4]           55247\n",
       "[1]           53746\n",
       "[1, 2]        20557\n",
       "[0]           16529\n",
       "[2, 3]        15779\n",
       "[3, 4]         1582\n",
       "[1, 3]          127\n",
       "[1, 2, 3]        51\n",
       "[1, 4]           23\n",
       "[2, 4]           12\n",
       "[2, 3, 4]         3\n",
       "[1, 2, 4]         2\n",
       "[1, 3, 4]         1\n",
       "dtype: int64"
      ]
     },
     "execution_count": 13,
     "metadata": {},
     "output_type": "execute_result"
    }
   ],
   "source": [
    "%%time\n",
    "\n",
    "phases = pd.Series(pd.NA, index=raw_df.index)\n",
    "phases[phase0] = phases[phase0].apply(append_value, y=0)\n",
    "phases[phase1] = phases[phase1].apply(append_value, y=1)\n",
    "phases[phase2] = phases[phase2].apply(append_value, y=2)\n",
    "phases[phase3] = phases[phase3].apply(append_value, y=3)\n",
    "phases[phase4] = phases[phase4].apply(append_value, y=4)\n",
    "phases.value_counts(dropna=False)"
   ]
  },
  {
   "cell_type": "markdown",
   "id": "170d601c",
   "metadata": {},
   "source": [
    "## enrollment_date"
   ]
  },
  {
   "cell_type": "code",
   "execution_count": 14,
   "id": "deac11d0",
   "metadata": {},
   "outputs": [
    {
     "name": "stdout",
     "output_type": "stream",
     "text": [
      "CPU times: total: 44.6 s\n",
      "Wall time: 59.6 s\n"
     ]
    }
   ],
   "source": [
    "%%time\n",
    "\n",
    "enrollment_date_str = raw_df['enrollment_date_str']\n",
    "\n",
    "# Fix bad formats, assign 15 as missing day of month\n",
    "enrollment_date_str = (\n",
    "    enrollment_date_str\n",
    "    .str.replace(r'^(\\d{4})(\\d{2})(\\d{2})$', r'\\1-\\2-\\3', regex=True)  # 20221001\n",
    "    .str.replace(r'^(\\w+)\\s+(\\d{4})$', r'\\1 15, \\2', regex=True)  # like October 2022\n",
    "    .str.replace(r'^(\\d{1,2})/(\\d{4})$', r'15/\\1/\\2', regex=True)  # like 10/2022\n",
    ")\n",
    "enrollment_date = (\n",
    "    pd.to_datetime(enrollment_date_str, dayfirst=True, errors='coerce')\n",
    "    .dt.date\n",
    "    .clip(datetime.date(1970,1,1), datetime.date(2099,12,31))\n",
    ")"
   ]
  },
  {
   "cell_type": "markdown",
   "id": "1778f77d",
   "metadata": {},
   "source": [
    "## registration_date"
   ]
  },
  {
   "cell_type": "code",
   "execution_count": 15,
   "id": "e561ce72",
   "metadata": {},
   "outputs": [
    {
     "name": "stdout",
     "output_type": "stream",
     "text": [
      "CPU times: total: 406 ms\n",
      "Wall time: 929 ms\n"
     ]
    }
   ],
   "source": [
    "%%time\n",
    "\n",
    "registration_date = (\n",
    "    pd.to_datetime(raw_df['registration_date_str'], \n",
    "                   dayfirst=True).dt.date.copy()\n",
    ")\n",
    "registration_date_valid = ~(\n",
    "    registration_date.isna() |\n",
    "    (registration_date == datetime.date(1990,1,1))\n",
    ")\n",
    "registration_date = registration_date.where(registration_date_valid, enrollment_date)"
   ]
  },
  {
   "cell_type": "markdown",
   "id": "f9bf2a87",
   "metadata": {},
   "source": [
    "## target_size"
   ]
  },
  {
   "cell_type": "code",
   "execution_count": 16,
   "id": "ece88909",
   "metadata": {},
   "outputs": [],
   "source": [
    "def to_numeric(series):\n",
    "    return (\n",
    "        pd.to_numeric(series, errors='coerce')\n",
    "        .convert_dtypes(convert_integer=True)\n",
    "        .astype('Int32')\n",
    "    )"
   ]
  },
  {
   "cell_type": "code",
   "execution_count": 17,
   "id": "1252b005",
   "metadata": {},
   "outputs": [
    {
     "name": "stdout",
     "output_type": "stream",
     "text": [
      "CPU times: total: 8.95 s\n",
      "Wall time: 12.9 s\n"
     ]
    }
   ],
   "source": [
    "%%time\n",
    "\n",
    "target_size_str = raw_df['target_size']\n",
    "target_size = pd.Series(None, index=target_size_str.index, dtype='Int32')\n",
    "\n",
    "# Pattern for \"each group has its size\":\n",
    "# <group 1 description>:###;<group 2 description>:###;...;\n",
    "target_size_group_df = (\n",
    "    target_size_str\n",
    "    .str.extractall(r'.*:(\\d+);')\n",
    "    .reset_index(level=-1, drop=True)\n",
    "    .assign(size=lambda x: to_numeric(x[0]))\n",
    "    .groupby(level=0)\n",
    "    .agg({'size': 'sum'})\n",
    ")\n",
    "target_size[target_size_group_df.index] = target_size_group_df['size']\n",
    "target_size_str = target_size_str[target_size.isna()]\n",
    "\n",
    "# Simple extraction\n",
    "extracted = (\n",
    "    target_size_str\n",
    "    .str.lower()\n",
    "    .replace(r'^9{7,}$', '', regex=True)\n",
    "    .replace(r'^(\\d+)[\\s\\-\\(,].*$', r'\\1', regex=True)\n",
    "    .replace(r'^(total|minimum|at least):?\\s+(\\d+)$', r'\\2', regex=True)\n",
    "    .replace(r'^(in total|total|global|until)[^\\d]+(\\d+).*$', r'\\2', regex=True)\n",
    "    .replace(r'^[\\w\\s]+:\\s*(\\d+);$', r'\\1', regex=True)\n",
    ")\n",
    "target_size_extracted = to_numeric(extracted).clip(0)\n",
    "target_size[target_size_extracted.index] = target_size_extracted"
   ]
  },
  {
   "cell_type": "markdown",
   "id": "b512faa5",
   "metadata": {},
   "source": [
    "## recruitment_status"
   ]
  },
  {
   "cell_type": "code",
   "execution_count": 18,
   "id": "0a9c1d80",
   "metadata": {},
   "outputs": [
    {
     "name": "stdout",
     "output_type": "stream",
     "text": [
      "CPU times: total: 3.08 s\n",
      "Wall time: 4.53 s\n"
     ]
    },
    {
     "data": {
      "text/plain": [
       "Completed             356566\n",
       "Not Recruiting        209916\n",
       "Recruiting            178585\n",
       "Closed/Suspended       43244\n",
       "Open                   33673\n",
       "<NA>                   12645\n",
       "In Expanded Access       870\n",
       "dtype: int64"
      ]
     },
     "execution_count": 18,
     "metadata": {},
     "output_type": "execute_result"
    }
   ],
   "source": [
    "%%time\n",
    "\n",
    "raw_recruitment_status = raw_df['recruitment_status']\n",
    "\n",
    "recruitment_status_qtspec = {    \n",
    "    'Not Recruiting': ['pending', ['recruit', ['not', 'close', 'complet', 'no longer']],\n",
    "                      ['without', 'enroll']],\n",
    "    'Completed': ['complet', 'publish'],\n",
    "    'In Expanded Access': ['available', 'marketing'],\n",
    "    'Closed/Suspended': ['withdrawn', 'withheld', 'terminated', 'suspend', 'closed', 'stop', 'halt'],\n",
    "    'Open': ['authori', 'ongo'],\n",
    "    'Recruiting': ['recruit', 'invitation']\n",
    "}\n",
    "\n",
    "recruitment_status = quicktag(raw_recruitment_status,\n",
    "                              rules=recruitment_status_qtspec,\n",
    "                              case=False, regex=False)\n",
    "\n",
    "vc = recruitment_status.value_counts(dropna=False)\n",
    "vc"
   ]
  },
  {
   "cell_type": "markdown",
   "id": "fe61ecc9",
   "metadata": {},
   "source": [
    "## primary_sponsor"
   ]
  },
  {
   "cell_type": "code",
   "execution_count": 19,
   "id": "3c6e66d1",
   "metadata": {},
   "outputs": [],
   "source": [
    "ruleframes_path = config.get('PATH_RULEFRAMES')\n",
    "sheet_name = config.get('SHEET_NAME_PRIMARY_SPONSOR')\n",
    "\n",
    "ruleframe = pd.read_excel(ruleframes_path, sheet_name=sheet_name, header=0)"
   ]
  },
  {
   "cell_type": "code",
   "execution_count": 20,
   "id": "865c37ac",
   "metadata": {},
   "outputs": [
    {
     "data": {
      "text/html": [
       "<div>\n",
       "<style scoped>\n",
       "    .dataframe tbody tr th:only-of-type {\n",
       "        vertical-align: middle;\n",
       "    }\n",
       "\n",
       "    .dataframe tbody tr th {\n",
       "        vertical-align: top;\n",
       "    }\n",
       "\n",
       "    .dataframe thead th {\n",
       "        text-align: right;\n",
       "    }\n",
       "</style>\n",
       "<table border=\"1\" class=\"dataframe\">\n",
       "  <thead>\n",
       "    <tr style=\"text-align: right;\">\n",
       "      <th></th>\n",
       "      <th>tag</th>\n",
       "      <th>phrase</th>\n",
       "      <th>min_terms</th>\n",
       "    </tr>\n",
       "  </thead>\n",
       "  <tbody>\n",
       "    <tr>\n",
       "      <th>0</th>\n",
       "      <td>Novartis</td>\n",
       "      <td>Novartis Sandoz Hexal Endocyte Corthera</td>\n",
       "      <td>1</td>\n",
       "    </tr>\n",
       "    <tr>\n",
       "      <th>1</th>\n",
       "      <td>GSK</td>\n",
       "      <td>GlaxoSmithKline GSK</td>\n",
       "      <td>1</td>\n",
       "    </tr>\n",
       "    <tr>\n",
       "      <th>2</th>\n",
       "      <td>GSK</td>\n",
       "      <td>Stiefel +Laboratories</td>\n",
       "      <td>2</td>\n",
       "    </tr>\n",
       "    <tr>\n",
       "      <th>3</th>\n",
       "      <td>GSK</td>\n",
       "      <td>Human Genome Sciences Inc</td>\n",
       "      <td>6</td>\n",
       "    </tr>\n",
       "    <tr>\n",
       "      <th>4</th>\n",
       "      <td>GSK</td>\n",
       "      <td>TESARO ViiV</td>\n",
       "      <td>1</td>\n",
       "    </tr>\n",
       "    <tr>\n",
       "      <th>...</th>\n",
       "      <td>...</td>\n",
       "      <td>...</td>\n",
       "      <td>...</td>\n",
       "    </tr>\n",
       "    <tr>\n",
       "      <th>100</th>\n",
       "      <td>Camurus</td>\n",
       "      <td>Camurus</td>\n",
       "      <td>1</td>\n",
       "    </tr>\n",
       "    <tr>\n",
       "      <th>101</th>\n",
       "      <td>Biohaven</td>\n",
       "      <td>Biohaven</td>\n",
       "      <td>1</td>\n",
       "    </tr>\n",
       "    <tr>\n",
       "      <th>102</th>\n",
       "      <td>Crinetics</td>\n",
       "      <td>Crinetics</td>\n",
       "      <td>1</td>\n",
       "    </tr>\n",
       "    <tr>\n",
       "      <th>103</th>\n",
       "      <td>Aeterna Zentaris</td>\n",
       "      <td>Aeterna Zentaris</td>\n",
       "      <td>3</td>\n",
       "    </tr>\n",
       "    <tr>\n",
       "      <th>104</th>\n",
       "      <td>Aeterna Zentaris</td>\n",
       "      <td>Æterna Zentaris</td>\n",
       "      <td>3</td>\n",
       "    </tr>\n",
       "  </tbody>\n",
       "</table>\n",
       "<p>105 rows × 3 columns</p>\n",
       "</div>"
      ],
      "text/plain": [
       "                  tag                                   phrase  min_terms\n",
       "0            Novartis  Novartis Sandoz Hexal Endocyte Corthera          1\n",
       "1                 GSK                      GlaxoSmithKline GSK          1\n",
       "2                 GSK                    Stiefel +Laboratories          2\n",
       "3                 GSK                Human Genome Sciences Inc          6\n",
       "4                 GSK                              TESARO ViiV          1\n",
       "..                ...                                      ...        ...\n",
       "100           Camurus                                  Camurus          1\n",
       "101          Biohaven                                 Biohaven          1\n",
       "102         Crinetics                                Crinetics          1\n",
       "103  Aeterna Zentaris                         Aeterna Zentaris          3\n",
       "104  Aeterna Zentaris                          Æterna Zentaris          3\n",
       "\n",
       "[105 rows x 3 columns]"
      ]
     },
     "execution_count": 20,
     "metadata": {},
     "output_type": "execute_result"
    }
   ],
   "source": [
    "fix_ruleframe(ruleframe)"
   ]
  },
  {
   "cell_type": "code",
   "execution_count": 21,
   "id": "28282a08",
   "metadata": {},
   "outputs": [
    {
     "name": "stdout",
     "output_type": "stream",
     "text": [
      "CPU times: total: 12.3 s\n",
      "Wall time: 17 s\n"
     ]
    }
   ],
   "source": [
    "%%time\n",
    "\n",
    "primary_sponsor = raw_df['primary_sponsor']\n",
    "\n",
    "stop_words = ['an', 'and', 'as', 'by', 'for', 'from',\n",
    "              'of', 'or', 'the', 'to', 'with']\n",
    "tagger = VectorTagger(stop_words=stop_words)\n",
    "tagger = tagger.fit(primary_sponsor.apply(html.unescape))"
   ]
  },
  {
   "cell_type": "code",
   "execution_count": 22,
   "id": "55ab0d5e",
   "metadata": {},
   "outputs": [
    {
     "name": "stdout",
     "output_type": "stream",
     "text": [
      "CPU times: total: 1 s\n",
      "Wall time: 1.35 s\n"
     ]
    },
    {
     "data": {
      "text/plain": [
       "Novartis                11140\n",
       "GSK                      7805\n",
       "Pfizer                   7799\n",
       "AstraZeneca              7227\n",
       "Roche                    6708\n",
       "Merck (MSD)              6278\n",
       "Johnson & Johnson        5986\n",
       "Sanofi                   5201\n",
       "Bristol Myers Squibb     5131\n",
       "Boehringer Ingelheim     4416\n",
       "dtype: int64"
      ]
     },
     "execution_count": 22,
     "metadata": {},
     "output_type": "execute_result"
    }
   ],
   "source": [
    "%%time\n",
    "\n",
    "sponsor_tag = tagger.transform(ruleframe)\n",
    "vc = sponsor_tag.value_counts()\n",
    "vc[:10]"
   ]
  },
  {
   "cell_type": "markdown",
   "id": "2e43e5d9",
   "metadata": {},
   "source": [
    "## countries"
   ]
  },
  {
   "cell_type": "code",
   "execution_count": 23,
   "id": "766b12b2",
   "metadata": {},
   "outputs": [],
   "source": [
    "def set2list(x):\n",
    "    return list(x) if isinstance(x, set) else x"
   ]
  },
  {
   "cell_type": "code",
   "execution_count": 24,
   "id": "30551769",
   "metadata": {},
   "outputs": [
    {
     "name": "stdout",
     "output_type": "stream",
     "text": [
      "CPU times: total: 51.1 s\n",
      "Wall time: 1min 4s\n"
     ]
    }
   ],
   "source": [
    "%%time\n",
    "\n",
    "raw_countries = fix_raw_countries(raw_df['countries'])\n",
    "countries = pd.Series(None, dtype='object', index=raw_df.index)\n",
    "exploded = raw_countries.str.findall(r'[^,;]+').explode().str.strip()\n",
    "unique_territories = pd.Series(exploded.unique()).fillna('')\n",
    "territories_tag = quicktag(unique_territories, territories_qtspec,\n",
    "                           prefill=pd.NA, case=False, regex=True)\n",
    "exploded_map = (\n",
    "    pd.DataFrame({\n",
    "        'territories_tag': territories_tag,\n",
    "        'territories': unique_territories\n",
    "    })\n",
    "    .dropna()\n",
    "    .set_index('territories')\n",
    "    ['territories_tag'].to_dict()\n",
    ")\n",
    "county_sets = (\n",
    "    exploded\n",
    "    .map(exploded_map)\n",
    "    .dropna()\n",
    "    .groupby(level=0)\n",
    "    .agg(set)\n",
    ")\n",
    "countries[county_sets.index] = county_sets.values\n",
    "countries = countries.apply(set2list)"
   ]
  },
  {
   "cell_type": "markdown",
   "id": "49710efb",
   "metadata": {},
   "source": [
    "## conditions (medarea)"
   ]
  },
  {
   "cell_type": "code",
   "execution_count": 25,
   "id": "6b1bfcf7",
   "metadata": {},
   "outputs": [],
   "source": [
    "def is_informative(series):\n",
    "    return ~(\n",
    "        series.isna() |\n",
    "        series.str.lower().isin(['', 'null', 'none', 'n/a',\n",
    "                                 'not applicable',\n",
    "                                 'pharmacokinetics', 'bioequivalence', \n",
    "                                 'investigations', 'vaccination', 'immunization']) |\n",
    "        series.str.startswith('<Manually entered code') |\n",
    "        series.str.startswith('-') |\n",
    "        series.str.match(r'^\\w\\d+$', case=False) |\n",
    "        series.str.match(r'^healthy(\\s\\w+){0,2}$', case=False) |\n",
    "        series.str.contains('hygiene', case=False)\n",
    "    )"
   ]
  },
  {
   "cell_type": "code",
   "execution_count": 26,
   "id": "548d0d78",
   "metadata": {},
   "outputs": [],
   "source": [
    "def replace_known_acronyms(series, acromap):\n",
    "    # Acronym is an all-caps single word\n",
    "    # All unknown acronyms are dropped\n",
    "    is_acronym = (series == series.str.upper()) & ~series.str.contains(r'\\s', regex=True)\n",
    "    return (\n",
    "        series\n",
    "        .map(acromap)\n",
    "        .fillna(series.where(~is_acronym))\n",
    "        .reset_index()\n",
    "        .drop_duplicates()\n",
    "        .set_index('index')\n",
    "        .groupby(level=0)\n",
    "        .agg(list)\n",
    "        [series.name]\n",
    "        .str.join('; ')\n",
    "    )"
   ]
  },
  {
   "cell_type": "markdown",
   "id": "4db77647",
   "metadata": {},
   "source": [
    "### Pre-clean conditions"
   ]
  },
  {
   "cell_type": "code",
   "execution_count": 27,
   "id": "6e877d3a",
   "metadata": {},
   "outputs": [
    {
     "name": "stdout",
     "output_type": "stream",
     "text": [
      "CPU times: total: 1.47 s\n",
      "Wall time: 1.82 s\n"
     ]
    },
    {
     "data": {
      "text/plain": [
       "(835499, 835499)"
      ]
     },
     "execution_count": 27,
     "metadata": {},
     "output_type": "execute_result"
    }
   ],
   "source": [
    "%%time\n",
    "raw_conditions = raw_df['conditions']\n",
    "\n",
    "# Clean html escapes and <br> tags\n",
    "conditions = (\n",
    "    raw_conditions\n",
    "    .apply(html.unescape)\n",
    "    .str.replace('<br>', '', case=True, regex=False)\n",
    "    .str.strip()\n",
    "    .str.strip(',;')\n",
    ")\n",
    "\n",
    "conditions.size, conditions.index.nunique()"
   ]
  },
  {
   "cell_type": "markdown",
   "id": "021cbe75",
   "metadata": {},
   "source": [
    "### Extract MedDRA Terms"
   ]
  },
  {
   "cell_type": "code",
   "execution_count": 28,
   "id": "7a7932ac",
   "metadata": {},
   "outputs": [
    {
     "name": "stdout",
     "output_type": "stream",
     "text": [
      "CPU times: total: 5.16 s\n",
      "Wall time: 6.13 s\n"
     ]
    }
   ],
   "source": [
    "%%time\n",
    "# MedDRA records\n",
    "is_meddra_record = conditions.str.contains('meddra', case=False, regex=False)\n",
    "meddra = conditions[is_meddra_record]\n",
    "for name in ['MedDRA', 'Level:', 'Term:', 'Classification code', \n",
    "             'System Organ Class:', 'Therapeutic area:', 'Preferred term:']:\n",
    "    meddra = meddra.str.replace(name, f'; {name}', case=True, regex=False)\n",
    "meddra = meddra + ';'\n",
    "meddra_term_text = pd.Series(pd.NA, index=meddra.index, name='term')  # placeholder\n",
    "# extract terms, replace known acronyms and build back\n",
    "extracted_term = (\n",
    "    meddra.str.extractall(r'Term:\\s*([^;]+);')\n",
    "    .reset_index(level=1, drop=True)\n",
    "    [0]\n",
    "    .str.strip(r' \\t;')\n",
    ")\n",
    "meddra_term = replace_known_acronyms(extracted_term, acromap)\n",
    "# Fill in improper values with MedDRA description\n",
    "meddra_term_text[meddra_term.index] = meddra_term.values\n",
    "meddra_desc = meddra.str.split(';').str[0].str.strip()\n",
    "meddra_term_text = meddra_term_text.where(is_informative(meddra_term_text), meddra_desc)"
   ]
  },
  {
   "cell_type": "markdown",
   "id": "04f18c75",
   "metadata": {},
   "source": [
    "### Extract Non-MedDRA Terms"
   ]
  },
  {
   "cell_type": "code",
   "execution_count": 29,
   "id": "caa3646e",
   "metadata": {},
   "outputs": [
    {
     "name": "stdout",
     "output_type": "stream",
     "text": [
      "CPU times: total: 1min 31s\n",
      "Wall time: 1min 47s\n"
     ]
    }
   ],
   "source": [
    "%%time\n",
    "# Non-MedDRA records\n",
    "# Get rid of Therapeutic area info\n",
    "non_meddra = (\n",
    "    conditions[~is_meddra_record]\n",
    "    .str.extract(r'(.*);Therapeutic area:', expand=False)\n",
    "    .str.strip(r' \\t;')\n",
    "    .fillna(conditions[~is_meddra_record])\n",
    ")\n",
    "non_meddra_term_text = pd.Series(pd.NA, index=conditions[~is_meddra_record].index, name='term')  # placeholder\n",
    "# extract terms, replace known acronyms, throw out non-informatives and build back\n",
    "non_meddra_exploded = (\n",
    "    non_meddra\n",
    "    .str.split(';')\n",
    "    .explode()\n",
    ")\n",
    "extracted_term = (\n",
    "    non_meddra_exploded.where(is_informative(non_meddra_exploded))\n",
    "    .dropna()\n",
    "    .str.strip(r' \\t;')\n",
    ")\n",
    "non_meddra_term = replace_known_acronyms(extracted_term, acromap)\n",
    "# Use title for non-informative records\n",
    "non_meddra_term_text[non_meddra_term.index] = non_meddra_term.values"
   ]
  },
  {
   "cell_type": "markdown",
   "id": "ff60b1c6",
   "metadata": {},
   "source": [
    "### Put all terms together"
   ]
  },
  {
   "cell_type": "code",
   "execution_count": 30,
   "id": "ad4c3ab7",
   "metadata": {},
   "outputs": [],
   "source": [
    "term_text = pd.Series(pd.NA, index=conditions.index, name='term')\n",
    "for term_series in (meddra_term_text, non_meddra_term_text):\n",
    "    term_text[term_series.index] = term_series.values\n",
    "term_text.fillna('', inplace=True)\n",
    "assert term_text.index.equals(conditions.index)"
   ]
  },
  {
   "cell_type": "markdown",
   "id": "57b04475",
   "metadata": {},
   "source": [
    "### Tag using Vectortag"
   ]
  },
  {
   "cell_type": "code",
   "execution_count": 31,
   "id": "04d7232a",
   "metadata": {},
   "outputs": [
    {
     "name": "stdout",
     "output_type": "stream",
     "text": [
      "CPU times: total: 17.8 s\n",
      "Wall time: 21.4 s\n"
     ]
    }
   ],
   "source": [
    "%%time\n",
    "stop_words = ['and', 'after', 'for', 'from', 'the', 'with']\n",
    "tagger = VectorTagger(stop_words=stop_words,\n",
    "                      strip_accents='unicode',\n",
    "                      token_pattern=r'\\b[^\\W\\d][\\w-]{2,}\\b', \n",
    "                      ngram_range=(1, 2))\n",
    "tagger = tagger.fit(term_text)\n",
    "\n",
    "ruleframes_path = config.get('PATH_RULEFRAMES')\n",
    "sheet_name = config.get('SHEET_NAME_CONDITIONS')\n",
    "\n",
    "ruleframe = pd.read_excel(ruleframes_path, sheet_name=sheet_name, header=0)\n",
    "medarea_tag = tagger.transform(ruleframe)"
   ]
  },
  {
   "cell_type": "markdown",
   "id": "90c954a4",
   "metadata": {},
   "source": [
    "### Tag Title using Vectortag"
   ]
  },
  {
   "cell_type": "markdown",
   "id": "9e5526e9",
   "metadata": {},
   "source": [
    "Use title as a source of terms where medarea tag is not assigned."
   ]
  },
  {
   "cell_type": "code",
   "execution_count": 32,
   "id": "989a4e09",
   "metadata": {},
   "outputs": [
    {
     "name": "stdout",
     "output_type": "stream",
     "text": [
      "CPU times: total: 9.55 s\n",
      "Wall time: 11.6 s\n"
     ]
    }
   ],
   "source": [
    "%%time\n",
    "title_text = title[medarea_tag.isna()].fillna('')\n",
    "tagger = tagger.fit(title_text)\n",
    "medarea_title_tag = tagger.transform(ruleframe)\n",
    "medarea_tag[medarea_title_tag.index] = medarea_title_tag.values"
   ]
  },
  {
   "cell_type": "markdown",
   "id": "f1fc0cb0",
   "metadata": {},
   "source": [
    "# Conditions Fixing Block"
   ]
  },
  {
   "cell_type": "code",
   "execution_count": 33,
   "id": "8ccd3422",
   "metadata": {},
   "outputs": [],
   "source": [
    "focus_sponsors = ['Teva', 'Corbus', 'Enlivex', \n",
    "                  'Ascendis', 'Camurus', 'Biohaven', 'Crinetics', 'Aeterna Zentaris', 'Merck (KGaA)', 'Merck (MSD)'\n",
    "                 ]\n",
    "is_focus = ( \n",
    "    sponsor_tag.isin(focus_sponsors) |\n",
    "    raw_df['public_contact_email'].str.contains('Accelsiors', case=False, regex=False) |\n",
    "    raw_df['scientific_contact_email'].str.contains('Accelsiors', case=False, regex=False)\n",
    ") & medarea_tag.isna()"
   ]
  },
  {
   "cell_type": "code",
   "execution_count": 34,
   "id": "12867eb2",
   "metadata": {},
   "outputs": [
    {
     "data": {
      "text/plain": [
       "False    834975\n",
       "True        524\n",
       "dtype: Int64"
      ]
     },
     "execution_count": 34,
     "metadata": {},
     "output_type": "execute_result"
    }
   ],
   "source": [
    "is_focus.value_counts()"
   ]
  },
  {
   "cell_type": "code",
   "execution_count": 35,
   "id": "c179eede",
   "metadata": {},
   "outputs": [
    {
     "data": {
      "text/plain": [
       "143"
      ]
     },
     "execution_count": 35,
     "metadata": {},
     "output_type": "execute_result"
    }
   ],
   "source": [
    "term_text[is_focus].value_counts().size"
   ]
  },
  {
   "cell_type": "markdown",
   "id": "2dafdf16",
   "metadata": {},
   "source": [
    "# Get resulting dataset"
   ]
  },
  {
   "cell_type": "code",
   "execution_count": 36,
   "id": "be6d16fa",
   "metadata": {},
   "outputs": [],
   "source": [
    "prefiltred_df = pd.DataFrame({\n",
    "    'trial_id': raw_df['trial_id'],\n",
    "    'url': raw_df['url'],\n",
    "    'title': title,    \n",
    "    'registration_date': registration_date,\n",
    "    'study_type': study_type,\n",
    "    'target_size': target_size,\n",
    "    'phases': phases,\n",
    "#     'phase0': phase0,\n",
    "#     'phase1': phase1,\n",
    "#     'phase2': phase2,\n",
    "#     'phase3': phase3,\n",
    "#     'phase4': phase4,\n",
    "    'recruitment_status': recruitment_status,\n",
    "    'medarea': medarea_tag,\n",
    "    'sponsor': sponsor_tag,    \n",
    "    'primary_sponsor': raw_df['primary_sponsor'],\n",
    "    'secondary_sponsors': raw_df['secondary_sponsors'],    \n",
    "    'countries': countries    \n",
    "})"
   ]
  },
  {
   "cell_type": "code",
   "execution_count": 37,
   "id": "29faaa6c",
   "metadata": {},
   "outputs": [
    {
     "name": "stdout",
     "output_type": "stream",
     "text": [
      "CPU times: total: 14.4 s\n",
      "Wall time: 41.6 s\n"
     ]
    }
   ],
   "source": [
    "%%time\n",
    "\n",
    "# Filter off \"children\"\n",
    "child_bridged_type = raw_df[raw_df['bridged_type'] == 'child']['trial_id'].values\n",
    "children_ids = (\n",
    "    raw_df[raw_df['children'] != 'NULL']['children']\n",
    "    .str.split(';')\n",
    "    .explode()\n",
    "    .values\n",
    ")\n",
    "children = set(child_bridged_type) | set(children_ids)\n",
    "cleaned_df = prefiltred_df[~prefiltred_df['trial_id'].isin(children)]"
   ]
  },
  {
   "cell_type": "code",
   "execution_count": 38,
   "id": "711948f2-1070-4031-a9df-295c3fc5ec08",
   "metadata": {},
   "outputs": [
    {
     "data": {
      "text/plain": [
       "(755980, 13)"
      ]
     },
     "execution_count": 38,
     "metadata": {},
     "output_type": "execute_result"
    }
   ],
   "source": [
    "cleaned_df.shape"
   ]
  },
  {
   "cell_type": "markdown",
   "id": "9d7b7964",
   "metadata": {},
   "source": [
    "# Keep only known sponsor  records"
   ]
  },
  {
   "cell_type": "code",
   "execution_count": 39,
   "id": "7a606911",
   "metadata": {},
   "outputs": [
    {
     "data": {
      "text/plain": [
       "(65854, 13)"
      ]
     },
     "execution_count": 39,
     "metadata": {},
     "output_type": "execute_result"
    }
   ],
   "source": [
    "selected_df = cleaned_df[~cleaned_df['sponsor'].isna()]\n",
    "selected_df.shape"
   ]
  },
  {
   "cell_type": "markdown",
   "id": "6aed978f",
   "metadata": {},
   "source": [
    "# Save selected"
   ]
  },
  {
   "cell_type": "code",
   "execution_count": 40,
   "id": "4a51c9d4",
   "metadata": {},
   "outputs": [
    {
     "name": "stdout",
     "output_type": "stream",
     "text": [
      "CPU times: total: 406 ms\n",
      "Wall time: 1.41 s\n"
     ]
    }
   ],
   "source": [
    "%%time\n",
    "selected_df_path = config.get('PATH_DF_SELECTED')\n",
    "selected_df.reset_index(drop=True).to_feather(selected_df_path)"
   ]
  },
  {
   "cell_type": "code",
   "execution_count": 41,
   "id": "0cb2ce6a",
   "metadata": {},
   "outputs": [
    {
     "data": {
      "text/plain": [
       "Oncology                 13651\n",
       "Endocrine/Nutritional     7048\n",
       "<NA>                      6956\n",
       "Infectious/Parasitic      4910\n",
       "Cardiovascular            4439\n",
       "Respiratory               4262\n",
       "Nervous                   3132\n",
       "Musculoskeletal           3030\n",
       "Mental/Behavioural        2800\n",
       "Digestive                 2660\n",
       "Skin                      2637\n",
       "Genitourinary             2485\n",
       "Visual                    1743\n",
       "Pain                      1481\n",
       "Blood                     1393\n",
       "HIV/AIDS                  1110\n",
       "Immune                     762\n",
       "Sexual                     389\n",
       "Sleep/Wake                 340\n",
       "COVID-19                   255\n",
       "Injury                     202\n",
       "Reproductive               169\n",
       "Name: medarea, dtype: int64"
      ]
     },
     "execution_count": 41,
     "metadata": {},
     "output_type": "execute_result"
    }
   ],
   "source": [
    "selected_df['medarea'].value_counts(dropna=False)"
   ]
  }
 ],
 "metadata": {
  "kernelspec": {
   "display_name": "Python 3 (ipykernel)",
   "language": "python",
   "name": "python3"
  },
  "language_info": {
   "codemirror_mode": {
    "name": "ipython",
    "version": 3
   },
   "file_extension": ".py",
   "mimetype": "text/x-python",
   "name": "python",
   "nbconvert_exporter": "python",
   "pygments_lexer": "ipython3",
   "version": "3.10.9"
  }
 },
 "nbformat": 4,
 "nbformat_minor": 5
}
